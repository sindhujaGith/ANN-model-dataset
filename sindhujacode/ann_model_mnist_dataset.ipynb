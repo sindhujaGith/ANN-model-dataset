{
  "cells": [
    {
      "cell_type": "code",
      "execution_count": 6,
      "metadata": {
        "id": "nXsiYqNwSzkj"
      },
      "outputs": [],
      "source": [
        "import torch\n",
        "import torch.nn.functional as F"
      ]
    },
    {
      "cell_type": "code",
      "execution_count": 7,
      "metadata": {
        "id": "7OBjC_C_S_J_"
      },
      "outputs": [],
      "source": [
        "output = F.log_softmax(torch.tensor([[0.2, 0.1, 0.3], \n",
        "                                    [0.2, 0.4, 0.3],\n",
        "                                     [0.8, 0.4, 0.3]]), dim=1)"
      ]
    },
    {
      "cell_type": "code",
      "execution_count": 8,
      "metadata": {
        "colab": {
          "base_uri": "https://localhost:8080/"
        },
        "id": "vz5EIlbcTGLz",
        "outputId": "7aa80e4d-9478-48c0-9227-1ed3fa4caad9"
      },
      "outputs": [
        {
          "data": {
            "text/plain": [
              "tensor([[-1.1019, -1.2019, -1.0019],\n",
              "        [-1.2019, -1.0019, -1.1019],\n",
              "        [-0.8228, -1.2228, -1.3228]])"
            ]
          },
          "execution_count": 8,
          "metadata": {},
          "output_type": "execute_result"
        }
      ],
      "source": [
        "output"
      ]
    },
    {
      "cell_type": "code",
      "execution_count": 9,
      "metadata": {
        "colab": {
          "base_uri": "https://localhost:8080/"
        },
        "id": "3wUZcfAKTJuT",
        "outputId": "b140e063-5275-45a8-ea3e-c62d45a54eae"
      },
      "outputs": [
        {
          "name": "stdout",
          "output_type": "stream",
          "text": [
            "tensor(2)\n",
            "tensor(1)\n",
            "tensor(0)\n"
          ]
        }
      ],
      "source": [
        "for i in output:\n",
        "  print(torch.argmax(i))"
      ]
    },
    {
      "cell_type": "code",
      "execution_count": 10,
      "metadata": {
        "id": "y8bFCV7obN_g"
      },
      "outputs": [],
      "source": [
        "import torch.nn as nn\n",
        "import numpy as np\n",
        "import pandas as pd\n",
        "import matplotlib.pyplot as plt"
      ]
    },
    {
      "cell_type": "code",
      "execution_count": 11,
      "metadata": {
        "id": "8n6PCpQ5vJAo"
      },
      "outputs": [],
      "source": [
        "from torchvision import datasets, transforms\n",
        "from torch.utils.data import DataLoader"
      ]
    },
    {
      "cell_type": "code",
      "execution_count": 12,
      "metadata": {
        "id": "Bk_nYF5TvAJx"
      },
      "outputs": [],
      "source": [
        "transform = transforms.ToTensor()"
      ]
    },
    {
      "cell_type": "code",
      "execution_count": null,
      "metadata": {
        "id": "boPdh0pEu4qp"
      },
      "outputs": [],
      "source": [
        "mnist_train = datasets.MNIST(root='/content/sample_data',\n",
        "                               train=True, download=True,\n",
        "                               transform=transform)"
      ]
    },
    {
      "cell_type": "code",
      "execution_count": 14,
      "metadata": {
        "id": "iMz-tZDOvYzi"
      },
      "outputs": [],
      "source": [
        "mnist_test = datasets.MNIST(root='/content/sample_data',\n",
        "                               train=False, download=True,\n",
        "                               transform=transform)"
      ]
    },
    {
      "cell_type": "code",
      "execution_count": 15,
      "metadata": {
        "id": "dZ0CXC3HvzAP"
      },
      "outputs": [],
      "source": [
        "train_loader = DataLoader(mnist_train, batch_size=10, shuffle=True)"
      ]
    },
    {
      "cell_type": "code",
      "execution_count": 16,
      "metadata": {
        "id": "FO8OEa7B7l0w"
      },
      "outputs": [],
      "source": [
        "test_loader = DataLoader(mnist_test, batch_size=1000, shuffle=True)"
      ]
    },
    {
      "cell_type": "code",
      "execution_count": 17,
      "metadata": {
        "id": "AbOrbhbtHsQb"
      },
      "outputs": [],
      "source": [
        "class DigitClassifier(nn.Module):\n",
        "  def __init__(self):\n",
        "    super().__init__()\n",
        "\n",
        "    self.fc1 = nn.Linear(784, 100)\n",
        "    self.fc2 = nn.Linear(100, 100)\n",
        "    self.fc3 = nn.Linear(100, 50)\n",
        "    self.fc4 = nn.Linear(50, 10)\n",
        "\n",
        "  def forward(self, input_data):\n",
        "    x = F.relu(self.fc1(input_data))\n",
        "    x = F.relu(self.fc2(x))\n",
        "    x = F.relu(self.fc3(x))\n",
        "    x= self.fc4(x)\n",
        "    return F.log_softmax(x, dim=1)"
      ]
    },
    {
      "cell_type": "code",
      "execution_count": 18,
      "metadata": {
        "id": "zMZsd_Y7zmEA"
      },
      "outputs": [],
      "source": [
        "digit_classifier = DigitClassifier()"
      ]
    },
    {
      "cell_type": "code",
      "execution_count": 22,
      "metadata": {
        "colab": {
          "base_uri": "https://localhost:8080/"
        },
        "id": "uTMO78IihK7m",
        "outputId": "e6d073cf-0761-48ec-b9d3-36e9d02176fa"
      },
      "outputs": [
        {
          "name": "stdout",
          "output_type": "stream",
          "text": [
            "tensor(0)\n",
            "tensor(3)\n",
            "tensor(0)\n",
            "tensor(6)\n",
            "tensor(1)\n",
            "tensor(8)\n",
            "tensor(9)\n",
            "tensor(1)\n",
            "tensor(2)\n",
            "tensor(3)\n",
            "tensor([0, 3, 0, 6, 1, 1, 9, 1, 2, 3])\n"
          ]
        }
      ],
      "source": [
        "for i, j in train_loader:\n",
        "\n",
        "  output = digit_classifier(i.view(-1, 28*28))\n",
        "  for idx, i in enumerate(output):\n",
        "    print(torch.argmax(i))\n",
        "  print(j)\n",
        "  break"
      ]
    },
    {
      "cell_type": "code",
      "execution_count": 20,
      "metadata": {
        "id": "C7lo4Mqsg6e9"
      },
      "outputs": [],
      "source": [
        "optimiser = torch.optim.Adam(digit_classifier.parameters(), lr=0.001)"
      ]
    },
    {
      "cell_type": "code",
      "execution_count": 21,
      "metadata": {
        "colab": {
          "base_uri": "https://localhost:8080/"
        },
        "id": "nI-RRWnG_lOE",
        "outputId": "90e6d894-1e77-4419-b211-f3cfa8fe1206"
      },
      "outputs": [
        {
          "name": "stdout",
          "output_type": "stream",
          "text": [
            "tensor(0.0551, grad_fn=<NllLossBackward0>)\n",
            "tensor(0.2435, grad_fn=<NllLossBackward0>)\n",
            "tensor(0.4587, grad_fn=<NllLossBackward0>)\n"
          ]
        }
      ],
      "source": [
        "for epoch in range(3):\n",
        "  for i, j in train_loader:\n",
        "    digit_classifier.zero_grad()\n",
        "\n",
        "    output = digit_classifier(i.view(-1, 28*28))\n",
        "    loss = F.nll_loss(output, j)\n",
        "    loss.backward()\n",
        "    optimiser.step()\n",
        "  print(loss)"
      ]
    },
    {
      "cell_type": "code",
      "execution_count": 23,
      "metadata": {
        "colab": {
          "base_uri": "https://localhost:8080/"
        },
        "id": "6B5sKN0JBXlr",
        "outputId": "d481cf13-858e-448c-aeca-08909e52c80a"
      },
      "outputs": [
        {
          "name": "stdout",
          "output_type": "stream",
          "text": [
            "0.9682\n"
          ]
        }
      ],
      "source": [
        "correct = 0\n",
        "total = 0\n",
        "with torch.no_grad():\n",
        "  for i_x, i_y in test_loader:\n",
        "    output = digit_classifier(i_x.view(-1,28*28))\n",
        "    for idx, i in enumerate(output):\n",
        "      if torch.argmax(i) == i_y[idx]:\n",
        "        correct += 1\n",
        "      total += 1\n",
        "\n",
        "print(correct/total)\n",
        "  "
      ]
    }
  ],
  "metadata": {
    "accelerator": "GPU",
    "colab": {
      "provenance": []
    },
    "gpuClass": "standard",
    "kernelspec": {
      "display_name": "Python 3",
      "name": "python3"
    },
    "language_info": {
      "name": "python"
    }
  },
  "nbformat": 4,
  "nbformat_minor": 0
}
